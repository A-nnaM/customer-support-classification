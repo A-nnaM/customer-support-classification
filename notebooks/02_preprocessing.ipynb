{
 "cells": [
  {
   "cell_type": "code",
   "execution_count": 12,
   "id": "0e05a0e2",
   "metadata": {},
   "outputs": [
    {
     "name": "stdout",
     "output_type": "stream",
     "text": [
      "Dataset shape: (1000, 2)\n",
      "Columns: ['text', 'categories']\n"
     ]
    },
    {
     "data": {
      "text/html": [
       "<div>\n",
       "<style scoped>\n",
       "    .dataframe tbody tr th:only-of-type {\n",
       "        vertical-align: middle;\n",
       "    }\n",
       "\n",
       "    .dataframe tbody tr th {\n",
       "        vertical-align: top;\n",
       "    }\n",
       "\n",
       "    .dataframe thead th {\n",
       "        text-align: right;\n",
       "    }\n",
       "</style>\n",
       "<table border=\"1\" class=\"dataframe\">\n",
       "  <thead>\n",
       "    <tr style=\"text-align: right;\">\n",
       "      <th></th>\n",
       "      <th>text</th>\n",
       "      <th>categories</th>\n",
       "    </tr>\n",
       "  </thead>\n",
       "  <tbody>\n",
       "    <tr>\n",
       "      <th>0</th>\n",
       "      <td>My payment was processed twice, and I only ord...</td>\n",
       "      <td>['Billing Issue']</td>\n",
       "    </tr>\n",
       "    <tr>\n",
       "      <th>1</th>\n",
       "      <td>I forgot my password and can't get back into m...</td>\n",
       "      <td>['Account Access']</td>\n",
       "    </tr>\n",
       "    <tr>\n",
       "      <th>2</th>\n",
       "      <td>The product I received doesn't match the descr...</td>\n",
       "      <td>['Product Inquiry']</td>\n",
       "    </tr>\n",
       "    <tr>\n",
       "      <th>3</th>\n",
       "      <td>I tried to update my shipping address but it k...</td>\n",
       "      <td>['Shipping Concern']</td>\n",
       "    </tr>\n",
       "    <tr>\n",
       "      <th>4</th>\n",
       "      <td>I requested a refund two weeks ago and still h...</td>\n",
       "      <td>['Refund Request']</td>\n",
       "    </tr>\n",
       "  </tbody>\n",
       "</table>\n",
       "</div>"
      ],
      "text/plain": [
       "                                                text            categories\n",
       "0  My payment was processed twice, and I only ord...     ['Billing Issue']\n",
       "1  I forgot my password and can't get back into m...    ['Account Access']\n",
       "2  The product I received doesn't match the descr...   ['Product Inquiry']\n",
       "3  I tried to update my shipping address but it k...  ['Shipping Concern']\n",
       "4  I requested a refund two weeks ago and still h...    ['Refund Request']"
      ]
     },
     "execution_count": 12,
     "metadata": {},
     "output_type": "execute_result"
    }
   ],
   "source": [
    "import pandas as pd\n",
    "import numpy as np\n",
    "import ast\n",
    "import re\n",
    "from sklearn.model_selection import train_test_split\n",
    "from sklearn.preprocessing import MultiLabelBinarizer\n",
    "\n",
    "# Load data\n",
    "df = pd.read_csv('../data/raw/tickets.csv')\n",
    "\n",
    "# Basic inspection\n",
    "print(f\"Dataset shape: {df.shape}\")\n",
    "print(f\"Columns: {df.columns.tolist()}\")\n",
    "df.head()"
   ]
  },
  {
   "cell_type": "code",
   "execution_count": 15,
   "id": "2fc415f6",
   "metadata": {},
   "outputs": [
    {
     "name": "stdout",
     "output_type": "stream",
     "text": [
      "n\\Categories after conversion:\n",
      "0       [Billing Issue]\n",
      "1      [Account Access]\n",
      "2     [Product Inquiry]\n",
      "3    [Shipping Concern]\n",
      "4      [Refund Request]\n",
      "Name: categories, dtype: object\n"
     ]
    }
   ],
   "source": [
    "# Convert string representations of lists to actual lists\n",
    "df['categories'] = df['categories'].apply(ast.literal_eval)\n",
    "print(\"n\\Categories after conversion:\")\n",
    "print(df['categories'].head())"
   ]
  },
  {
   "cell_type": "code",
   "execution_count": 16,
   "id": "9f173596",
   "metadata": {},
   "outputs": [
    {
     "name": "stdout",
     "output_type": "stream",
     "text": [
      "Type after conversion: <class 'list'>\n",
      "First category: ['Billing Issue']\n",
      "First item in first category: Billing Issue\n"
     ]
    }
   ],
   "source": [
    "print(\"Type after conversion:\", type(df['categories'].iloc[0]))\n",
    "print(\"First category:\", df['categories'].iloc[0])\n",
    "print(\"First item in first category:\", df['categories'].iloc[0][0])"
   ]
  },
  {
   "cell_type": "code",
   "execution_count": 17,
   "id": "0e8ac9b8",
   "metadata": {},
   "outputs": [],
   "source": [
    "def clean_text(text):\n",
    "    # convert to lowercase\n",
    "    text = text.lower()\n",
    "    # remove extra whitespaces\n",
    "    text = re.sub(r'\\s+',' ', text)\n",
    "    # remove leading/trailing spaces\n",
    "    text = text.strip()\n",
    "    return text\n",
    "\n",
    "df['text_clean'] = df['text'].apply(clean_text)"
   ]
  },
  {
   "cell_type": "code",
   "execution_count": 18,
   "id": "b38cc2b7",
   "metadata": {},
   "outputs": [
    {
     "name": "stdout",
     "output_type": "stream",
     "text": [
      "Category distribution:\n",
      "Billing Issue        288\n",
      "Technical Problem    280\n",
      "Shipping Concern     256\n",
      "Account Access       228\n",
      "Refund Request       180\n",
      "Product Inquiry      140\n",
      "Service Complaint     50\n",
      "Name: count, dtype: int64\n"
     ]
    }
   ],
   "source": [
    "# Check category distribution\n",
    "all_categories = [cat for sublist in df['categories'] for cat in sublist]\n",
    "category_counts = pd.Series(all_categories).value_counts()\n",
    "print(\"Category distribution:\")\n",
    "print(category_counts)"
   ]
  },
  {
   "cell_type": "code",
   "execution_count": null,
   "id": "5b56c403",
   "metadata": {},
   "outputs": [],
   "source": [
    "# Check multi-label statistics\n",
    "df['num_categories'] = df['categories'].apply(len)\n",
    "print(\"\\nNumber of categories per ticket:\")\n",
    "print(df['num_categories']).value_counts().sort_index()"
   ]
  },
  {
   "cell_type": "code",
   "execution_count": null,
   "id": "44184e44",
   "metadata": {},
   "outputs": [],
   "source": [
    "# Check multi-label statistics\n",
    "df['num_categories'] = df['categories'].apply(len)\n",
    "print(\"\\nNumber of categories per ticket:\")\n",
    "print(df['num_categories'].value_counts().sort_index())"
   ]
  },
  {
   "cell_type": "code",
   "execution_count": null,
   "id": "586521be",
   "metadata": {},
   "outputs": [],
   "source": [
    "# Convert to binary format for multi-label classification\n",
    "mlb = MultiLabelBinarizer()\n",
    "y_binary = mlb.fit_transform(df['categories'])\n",
    "\n",
    "print(f\"\\nLabel classes: {mlb.classes_}\")\n",
    "print(f\"Binary label shape: {y_binary.shape}\")"
   ]
  },
  {
   "cell_type": "code",
   "execution_count": null,
   "id": "54c1bbf9",
   "metadata": {},
   "outputs": [],
   "source": [
    "# Split the data\n",
    "X = df['text_clean'].values\n",
    "y = y_binary\n",
    "\n",
    "X_train, X_temp, y_train, y_temp = train_test_split(X, y, test_size=0.4, random_state=42)\n",
    "X_val, X_test, y_val, y_test = train_test_split(X_temp, y_temp, test_size=0.5, random_state=42)\n",
    "\n",
    "print(f\"Train: {len(X_train)}, Val: {len(X_val)}, Test: {len(X_test)}\")"
   ]
  }
 ],
 "metadata": {
  "kernelspec": {
   "display_name": "venv",
   "language": "python",
   "name": "python3"
  },
  "language_info": {
   "codemirror_mode": {
    "name": "ipython",
    "version": 3
   },
   "file_extension": ".py",
   "mimetype": "text/x-python",
   "name": "python",
   "nbconvert_exporter": "python",
   "pygments_lexer": "ipython3",
   "version": "3.11.8"
  }
 },
 "nbformat": 4,
 "nbformat_minor": 5
}
